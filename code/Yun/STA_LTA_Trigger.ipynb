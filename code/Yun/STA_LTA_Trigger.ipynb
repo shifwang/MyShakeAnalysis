{
 "cells": [
  {
   "cell_type": "code",
   "execution_count": 2,
   "metadata": {
    "collapsed": false
   },
   "outputs": [
    {
     "name": "stdout",
     "output_type": "stream",
     "text": [
      "Populating the interactive namespace from numpy and matplotlib\n"
     ]
    }
   ],
   "source": [
    "import json\n",
    "import matplotlib.pyplot as plt\n",
    "import numpy as np\n",
    "%pylab inline\n"
   ]
  },
  {
   "cell_type": "code",
   "execution_count": 3,
   "metadata": {
    "collapsed": true
   },
   "outputs": [],
   "source": [
    "def get_data(data):\n",
    "    '''\n",
    "    helper function to get the timestamp and 3-component acceleration data. \n",
    "    '''\n",
    "    # read in x, y, z data\n",
    "    x = data['data']['x']\n",
    "    y = data['data']['y']\n",
    "    z = data['data']['z']\n",
    "\n",
    "    # calculate the timestamp\n",
    "    # get the start time\n",
    "    t0 = data['header']['starttime']\n",
    "    npoints = len(x)\n",
    "    sampling_rate = data['header']['sampling_rate']\n",
    "    \n",
    "    # get the end time \n",
    "    t1 = t0 + npoints / sampling_rate\n",
    "    \n",
    "    # form the timestamp\n",
    "    t = [t0 + tmp/sampling_rate for tmp in range(0, npoints)]\n",
    "    \n",
    "    # station latitude and long\n",
    "    return t, x, y, z"
   ]
  },
  {
   "cell_type": "code",
   "execution_count": 4,
   "metadata": {
    "collapsed": true
   },
   "outputs": [],
   "source": [
    "def plot_data(t, x, y, z):\n",
    "    '''\n",
    "    helper function to plot the 3-component acceleration data\n",
    "    '''\n",
    "    figure(num=None, figsize=(6, 4), dpi=80, facecolor='w', edgecolor='k')\n",
    "    plt.subplot(311)\n",
    "    plt.plot(t, x)\n",
    "    plt.subplot(312)\n",
    "    plt.plot(t, y)\n",
    "    plt.ylabel('Acceleration (g)')\n",
    "    plt.subplot(313)\n",
    "    plt.plot(t, z)\n",
    "    plt.xlabel('Time (sec)')\n",
    "    plt.show()"
   ]
  },
  {
   "cell_type": "code",
   "execution_count": 5,
   "metadata": {
    "collapsed": true
   },
   "outputs": [],
   "source": [
    "def Normalize_Seq(seq_x = None, seq_y = None, seq_z = None, dim = 3):\n",
    "    \"\"\"\n",
    "    May need further normalization later.\n",
    "    Take either 1-dim accelaretion sequence or 3-dim, or 2-idm.\n",
    "    \"\"\"\n",
    "    tmp = []\n",
    "    if seq_x != None:\n",
    "        seq_x = (seq_x - np.median(seq_x))\n",
    "        tmp.append(seq_x)\n",
    "    if seq_y != None:\n",
    "        seq_y = (seq_y - np.median(seq_y))\n",
    "        tmp.append(seq_y)\n",
    "    if seq_z != None:\n",
    "        seq_z = (seq_z - np.median(seq_z))\n",
    "        tmp.append(seq_z)\n",
    "        \n",
    "    if dim != 3:\n",
    "        return tmp\n",
    "    else:\n",
    "        return seq_x, seq_y, seq_z"
   ]
  },
  {
   "cell_type": "code",
   "execution_count": 16,
   "metadata": {
    "collapsed": true
   },
   "outputs": [],
   "source": [
    "from obspy.signal.trigger import classic_sta_lta\n",
    "def get_threshold(x, y, z, window = 2, rate = 25):\n",
    "    \"\"\"\n",
    "    1.How to define trigger in the sta_lta need to be discussed, the threshold = 1.5 may not be good for Human, \n",
    "    though sounds plausible. involve variance median mean? tuning short/long time as 2/10 seconds\n",
    "    2.thus in future aggregating data may be different for human and EQ\n",
    "    3.when design features in the future, window and gap here can be set coincide with the windows used in features\n",
    "    \"\"\"\n",
    "    x, y, z = Normalize_Seq(x, y, z)\n",
    "    #print(len(x),len(y),len(z),len(t),rate)\n",
    "    length = min(len(x),len(y),len(z))\n",
    "    if length < 10 * rate:\n",
    "        return(0)\n",
    "    ## window, gap\n",
    "    predictor = [[x[i],y[i],z[i]] for i in range(length)]\n",
    "    cft_x = classic_sta_lta(x[:length], int(2 * rate), int(10 * rate))\n",
    "    cft_y = classic_sta_lta(y[:length], int(2 * rate), int(10 * rate))\n",
    "    cft_z = classic_sta_lta(z[:length], int(2 * rate), int(10 * rate))\n",
    "    response = [np.min([cft_x[i],cft_y[i],cft_z[i]]) for i in range(length)]    \n",
    "    return np.max(response)"
   ]
  },
  {
   "cell_type": "code",
   "execution_count": 9,
   "metadata": {
    "collapsed": false,
    "scrolled": true
   },
   "outputs": [
    {
     "name": "stdout",
     "output_type": "stream",
     "text": [
      "10 loops, best of 3: 87.7 ms per loop\n",
      "1.31714227071\n"
     ]
    }
   ],
   "source": [
    "data = json.load(open('../../data/Human/013306004148017_1415069032.json', 'r'))\n",
    "#data = json.load(open('../../data/EQ/shake_table/trial142_phone2.json', 'r'))\n",
    "%timeit response = get_threshold(data)\n",
    "response = get_threshold(data)\n",
    "print(response)"
   ]
  },
  {
   "cell_type": "code",
   "execution_count": 12,
   "metadata": {
    "collapsed": false
   },
   "outputs": [
    {
     "name": "stdout",
     "output_type": "stream",
     "text": [
      "1\n",
      "../../data/EQ/shake_table/trial150_phone0.json\n"
     ]
    }
   ],
   "source": [
    "import os\n",
    "import random\n",
    "def Sampling(label = None, order = None):\n",
    "    '''\n",
    "    Draw a sample from data\n",
    "    \n",
    "    Args:\n",
    "    label: integer, the label of the sample, 1 if shaketable, 0 if human, 2 if simulated\n",
    "    order: integer, if not None, will give the the file of that order instead of randomly selecting.\n",
    "    \n",
    "    Returns:\n",
    "    t     : 1d array, time.\n",
    "    x     : 1d array, x.\n",
    "    y     : 1d array, y orthogonal to x.\n",
    "    z     : 1d array, z (vertical).\n",
    "    label : boolean.\n",
    "    '''\n",
    "    rng = random.Random()\n",
    "    if label is None:\n",
    "        label = (rng.random() > 0.5) * 1\n",
    "    elif label is True:\n",
    "        label = 1\n",
    "    elif label is False:\n",
    "        label = 0\n",
    "    if label == 1:\n",
    "        path = '../../data/EQ/shake_table/'\n",
    "    elif label == 0:\n",
    "        path = '../../data/Human/'\n",
    "    elif label == 2:\n",
    "        path = '../../data/EQ/simulated/'\n",
    "    files = os.listdir(path)\n",
    "    if order is None:\n",
    "        oneFile = path + rng.sample(files, 1)[0]\n",
    "    else:\n",
    "        assert(order < len(files))\n",
    "        oneFile = path + files[order]\n",
    "    data = json.load(open(oneFile, 'r'))\n",
    "    t, x, y, z = get_data(data)    \n",
    "    return(t, x, y, z, label, oneFile)\n",
    "t, x, y, z, label, filename = Sampling(True, 190)\n",
    "print(label)\n",
    "print(filename)"
   ]
  },
  {
   "cell_type": "code",
   "execution_count": 27,
   "metadata": {
    "collapsed": false
   },
   "outputs": [],
   "source": [
    "def Aggregate(m = 1000, n = 10000, window = 25, move = [-4, -3, -2, -1, 0, 1, 2, 3, 4]):\n",
    "    '''\n",
    "    Aggregate the data between triggerTime+/- window\n",
    "    Args:\n",
    "    \n",
    "    move : move the window to left and still keep the same label\n",
    "    '''\n",
    "    output = np.zeros(m+n)\n",
    "    for trial in range(m):\n",
    "        t, x, y, z, label, filename = Sampling(1, trial)\n",
    "        output[trial] = get_threshold(x, y, z)\n",
    "\n",
    "    for trial in range(m, m + n):\n",
    "        t, x, y, z, label, filename = Sampling(0, trial - m)\n",
    "        output[trial] = get_threshold(x, y, z)\n",
    "    return(output)\n",
    "data1 = Aggregate(m = 192, n = 0)\n",
    "data0 = Aggregate(m = 0, n = 1343)\n",
    "# 26343"
   ]
  },
  {
   "cell_type": "code",
   "execution_count": 30,
   "metadata": {
    "collapsed": false
   },
   "outputs": [
    {
     "data": {
      "text/plain": [
       "<matplotlib.legend.Legend at 0x7f6c7f4a4e80>"
      ]
     },
     "execution_count": 30,
     "metadata": {},
     "output_type": "execute_result"
    },
    {
     "data": {
      "image/png": "[encoded data removed]",
      "text/plain": [
       "<matplotlib.figure.Figure at 0x7f6c7f5da128>"
      ]
     },
     "metadata": {},
     "output_type": "display_data"
    }
   ],
   "source": [
    "from sklearn.metrics import roc_curve, auc\n",
    "label = np.concatenate([[1] * 192, [0] * 1343])\n",
    "score = np.concatenate([data1, data0])\n",
    "fpr, tpr, _ = roc_curve(label, score)\n",
    "roc_auc = auc(fpr, tpr)\n",
    "lw = 2\n",
    "plt.plot(fpr, tpr, lw=lw, color='seagreen', label='STA-LTA (area = %0.2f)' % (roc_auc))\n",
    "plt.plot([0, 1], [0, 1], linestyle='--', lw=lw, color='k', label='Luck')\n",
    "plt.xlabel('False Positive Rate')\n",
    "plt.ylabel('True Positive Rate')\n",
    "plt.title('ROC curve for STA-LTA')\n",
    "plt.legend(loc=\"lower right\")"
   ]
  },
  {
   "cell_type": "code",
   "execution_count": null,
   "metadata": {
    "collapsed": true
   },
   "outputs": [],
   "source": []
  }
 ],
 "metadata": {
  "anaconda-cloud": {},
  "kernelspec": {
   "display_name": "Python [default]",
   "language": "python",
   "name": "python3"
  },
  "language_info": {
   "codemirror_mode": {
    "name": "ipython",
    "version": 3
   },
   "file_extension": ".py",
   "mimetype": "text/x-python",
   "name": "python",
   "nbconvert_exporter": "python",
   "pygments_lexer": "ipython3",
   "version": "3.5.2"
  }
 },
 "nbformat": 4,
 "nbformat_minor": 1
}
