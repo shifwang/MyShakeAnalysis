{
 "cells": [
  {
   "cell_type": "code",
   "execution_count": 3,
   "metadata": {
    "collapsed": false
   },
   "outputs": [
    {
     "name": "stdout",
     "output_type": "stream",
     "text": [
      "Populating the interactive namespace from numpy and matplotlib\n"
     ]
    }
   ],
   "source": [
    "import json\n",
    "import glob\n",
    "import numpy as np\n",
    "import scipy.stats\n",
    "import matplotlib.pyplot as plt\n",
    "%pylab inline\n",
    "pylab.rcParams['figure.figsize'] = (10, 8)\n",
    "\n",
    "import seaborn as sns"
   ]
  },
  {
   "cell_type": "code",
   "execution_count": 4,
   "metadata": {
    "collapsed": true
   },
   "outputs": [],
   "source": [
    "def get_data(data):\n",
    "    '''\n",
    "    helper function to get the timestamp and 3-component acceleration data. \n",
    "    '''\n",
    "    # read in x, y, z data\n",
    "    x = data['data']['x']\n",
    "    y = data['data']['y']\n",
    "    z = data['data']['z']\n",
    "\n",
    "    # calculate the timestamp\n",
    "    # get the start time\n",
    "    t0 = data['header']['starttime']\n",
    "    npoints = len(x)\n",
    "    sampling_rate = data['header']['sampling_rate']\n",
    "    \n",
    "    # get the end time \n",
    "    t1 = t0 + npoints / sampling_rate\n",
    "    \n",
    "    # form the timestamp\n",
    "    t = [t0 + tmp/sampling_rate for tmp in range(0, npoints)]\n",
    "    \n",
    "    # station latitude and long\n",
    "    return t, x, y, z\n",
    "\n",
    "def plot_data(t, x, y, z):\n",
    "    '''\n",
    "    helper function to plot the 3-component acceleration data\n",
    "    '''\n",
    "    plt.subplot(311)\n",
    "    plt.plot(t, x)\n",
    "    plt.subplot(312)\n",
    "    plt.plot(t, y)\n",
    "    plt.ylabel('Acceleration (g)')\n",
    "    plt.subplot(313)\n",
    "    plt.plot(t, z)\n",
    "    plt.xlabel('Time (sec)')\n",
    "    plt.show()"
   ]
  },
  {
   "cell_type": "markdown",
   "metadata": {},
   "source": [
    "## Read simulated data"
   ]
  },
  {
   "cell_type": "code",
   "execution_count": 5,
   "metadata": {
    "collapsed": false
   },
   "outputs": [
    {
     "name": "stdout",
     "output_type": "stream",
     "text": [
      "/home/wangyu/github/MyShakeAnalysis/code\n"
     ]
    }
   ],
   "source": [
    "import os\n",
    "cwd = os.getcwd()\n",
    "print (cwd)"
   ]
  },
  {
   "cell_type": "code",
   "execution_count": 6,
   "metadata": {
    "collapsed": false
   },
   "outputs": [
    {
     "name": "stdout",
     "output_type": "stream",
     "text": [
      "(1625, 1625, 25.0)\n"
     ]
    }
   ],
   "source": [
    "data = json.load(open('../data/EQ/simulated/12951_M5.1_1396066202.json', 'r'))\n",
    "\n",
    "t, x, y, z = get_data(data)\n",
    "rate = data['header']['sampling_rate'];\n",
    "#print(data['header'])\n",
    "print (len(x), len(t), rate)\n",
    "# plot_data(t, x, y, z)"
   ]
  },
  {
   "cell_type": "markdown",
   "metadata": {},
   "source": [
    "## Read shake table data"
   ]
  },
  {
   "cell_type": "code",
   "execution_count": 7,
   "metadata": {
    "collapsed": false
   },
   "outputs": [
    {
     "name": "stdout",
     "output_type": "stream",
     "text": [
      "(984, 984, 25.0)\n"
     ]
    }
   ],
   "source": [
    "data = json.load(open('../data/EQ/shake_table/trial142_phone2.json', 'r'))\n",
    "\n",
    "t, x, y, z = get_data(data)\n",
    "rate = data['header']['sampling_rate'];\n",
    "print (len(x), len(t), rate)\n",
    "# plot_data(t, x, y, z)\n",
    "# from matplotlib.pyplot import specgram\n",
    "# specgram(z, NFFT=100, Fs=rate, noverlap = 50);"
   ]
  },
  {
   "cell_type": "markdown",
   "metadata": {},
   "source": [
    "## Read human data"
   ]
  },
  {
   "cell_type": "code",
   "execution_count": 8,
   "metadata": {
    "collapsed": false
   },
   "outputs": [
    {
     "name": "stdout",
     "output_type": "stream",
     "text": [
      "(6284, 6284, 25.0)\n"
     ]
    }
   ],
   "source": [
    "data = json.load(open('../data/Human/013306004148017_1418583215.json', 'r'))\n",
    "\n",
    "t, x, y, z = get_data(data)\n",
    "rate = data['header']['sampling_rate'];\n",
    "print (len(x), len(t), rate)\n",
    "# plot_data(t, x, y, z)"
   ]
  },
  {
   "cell_type": "markdown",
   "metadata": {},
   "source": [
    "## Prefiltering functions"
   ]
  },
  {
   "cell_type": "code",
   "execution_count": 9,
   "metadata": {
    "collapsed": true
   },
   "outputs": [],
   "source": [
    "def variation_rate(x):\n",
    "    x = np.array(x)\n",
    "    if len(x) < 2:\n",
    "        raise ValueError('Data length too short.')\n",
    "    rates = (x[1:] - x[:-1]) / x[:-1]\n",
    "    return rates[abs(x[:-1]) > 1E-10]"
   ]
  },
  {
   "cell_type": "code",
   "execution_count": 10,
   "metadata": {
    "collapsed": false
   },
   "outputs": [],
   "source": [
    "def get_variation_rate_stats(data):\n",
    "    t, x, y, z = get_data(data)\n",
    "    rate = data['header']['sampling_rate']\n",
    "    if rate != 25:\n",
    "        raise ValueError('Default 25 Hz, data ' + str(rate) + ' Hz')\n",
    "    variattion_rates = [variation_rate(dt) for dt in [x, y, z]]\n",
    "    kurt_xyz = [scipy.stats.kurtosis(dt) for dt in variattion_rates]\n",
    "    mean_xyz = [np.mean(dt) for dt in variattion_rates]\n",
    "    var_xyz = [np.var(dt) for dt in variattion_rates]\n",
    "    return mean_xyz, var_xyz, kurt_xyz"
   ]
  },
  {
   "cell_type": "code",
   "execution_count": 11,
   "metadata": {
    "collapsed": false
   },
   "outputs": [
    {
     "data": {
      "text/plain": [
       "([0.011709068897979447, 0.0033885987488140967, 4.7864227840662864e-06],\n",
       " [0.024208941709908158, 0.0068994707672810993, 9.26139205256046e-06],\n",
       " [1.8412574862715978, 1.6469555657276942, 0.8366150517809801])"
      ]
     },
     "execution_count": 11,
     "metadata": {},
     "output_type": "execute_result"
    }
   ],
   "source": [
    "data = json.load(open('../data/Human/013306004148017_1418583215.json', 'r'))\n",
    "get_variation_rate_stats(data)"
   ]
  },
  {
   "cell_type": "code",
   "execution_count": 12,
   "metadata": {
    "collapsed": false
   },
   "outputs": [
    {
     "data": {
      "text/plain": [
       "([0.011709068897979447, 0.0033885987488140967, 4.7864227840662864e-06],\n",
       " [0.024208941709908158, 0.0068994707672810993, 9.26139205256046e-06],\n",
       " [1.8412574862715978, 1.6469555657276942, 0.8366150517809801])"
      ]
     },
     "execution_count": 12,
     "metadata": {},
     "output_type": "execute_result"
    }
   ],
   "source": [
    "data = json.load(open('../data/Human/013306004148017_1418583215.json', 'r'))\n",
    "get_variation_rate_stats(data)"
   ]
  },
  {
   "cell_type": "code",
   "execution_count": 13,
   "metadata": {
    "collapsed": false
   },
   "outputs": [
    {
     "data": {
      "text/plain": [
       "([-0.51018754101913555, -0.44562486662966916, 3.4122939263749714e-05],\n",
       " [480.95570379101343, 770.88167604642547, 5.2359853119427808e-05],\n",
       " [228.51143784340417, 1309.4879641031034, 0.026601107522057355])"
      ]
     },
     "execution_count": 13,
     "metadata": {},
     "output_type": "execute_result"
    }
   ],
   "source": [
    "data = json.load(open('../data/EQ/simulated/12951_M5.1_1396066202.json', 'r'))\n",
    "get_variation_rate_stats(data)"
   ]
  },
  {
   "cell_type": "code",
   "execution_count": 14,
   "metadata": {
    "collapsed": false
   },
   "outputs": [],
   "source": [
    "data_dir = '../minidata/shake_table/'\n",
    "var_test_shake = []\n",
    "\n",
    "for f in glob.glob('../minidata/shake_table/*'):\n",
    "    data = json.load(open(f, 'r'))\n",
    "    var_test_shake.append(get_variation_rate_stats(data)[1][0])"
   ]
  },
  {
   "cell_type": "code",
   "execution_count": 15,
   "metadata": {
    "collapsed": false
   },
   "outputs": [
    {
     "name": "stderr",
     "output_type": "stream",
     "text": [
      "/usr/lib/python2.7/site-packages/ipykernel/__main__.py:5: RuntimeWarning: divide by zero encountered in divide\n",
      "/usr/lib/python2.7/site-packages/ipykernel/__main__.py:5: RuntimeWarning: invalid value encountered in divide\n"
     ]
    }
   ],
   "source": [
    "data_dir = '../minidata/human/'\n",
    "var_test_human = []\n",
    "\n",
    "for f in glob.glob('../minidata/human/*'):\n",
    "    data = json.load(open(f, 'r'))\n",
    "    var_test_human.append(get_variation_rate_stats(data)[1][0])"
   ]
  },
  {
   "cell_type": "code",
   "execution_count": 14,
   "metadata": {
    "collapsed": false
   },
   "outputs": [
    {
     "data": {
      "text/plain": [
       "[951.90288821219201,\n",
       " 68113.999419346044,\n",
       " 2888.6191347092026,\n",
       " 1810.261629803932,\n",
       " 240.93071478490626,\n",
       " 62.520750850886351,\n",
       " 2596.2896854763253,\n",
       " 185.23650477257175,\n",
       " 3679.878270036254,\n",
       " 15418.7896224546,\n",
       " 2225.6045211411565,\n",
       " 265.05683873589686,\n",
       " 331.60513238047224,\n",
       " 4771.5311459775112,\n",
       " 491.56804392737934,\n",
       " 241.42047121251807,\n",
       " 1517.264635733738,\n",
       " 193.76491858205969,\n",
       " 231.57337996899813,\n",
       " 8900.2954962696931,\n",
       " 2160.9451178276754,\n",
       " 894.59867766381694,\n",
       " 770.30802870899674,\n",
       " 12774.132236922496,\n",
       " 1153.2383597840289,\n",
       " 577.07463346304667,\n",
       " 143303.02552837852,\n",
       " 274.86755162276057,\n",
       " 367.95496284642729,\n",
       " 154.29148597362263,\n",
       " 14282.380902712679,\n",
       " 388.54550316088125,\n",
       " 869.42137791567222,\n",
       " 4535.4787295866927,\n",
       " 3157.4597964829527,\n",
       " 4520.2153280564326,\n",
       " 494.74797076419384,\n",
       " 7840.3346062124565,\n",
       " 85820.079075366128,\n",
       " 135.5617849261028,\n",
       " 1142.4736013823972,\n",
       " 207.21758464992979,\n",
       " 100156337.15123697,\n",
       " 294.70930240917392,\n",
       " 491.50847586583723,\n",
       " 499.28174745491447,\n",
       " 15074.331082429655,\n",
       " 90337.728356883657,\n",
       " 740.30885701245222,\n",
       " 8763.4131062764209,\n",
       " 85.500164569950741,\n",
       " 257.44273642838795,\n",
       " 7370116.9850266548,\n",
       " 20274.021067551617,\n",
       " 187.18587704890959,\n",
       " 80.501270100559324,\n",
       " 1238.5181116104075,\n",
       " 568.98320734790639,\n",
       " 937.6396686118436,\n",
       " 73.903133180933239,\n",
       " 2260.2746975987552,\n",
       " 369.66096098813085,\n",
       " 2641.6639811291402,\n",
       " 37483.095095495075,\n",
       " 383.94753416779207,\n",
       " 205.56084677651273,\n",
       " 2717.4373365634592,\n",
       " 2450.8803662588421,\n",
       " 84.025956176371025,\n",
       " 268.20447446814796,\n",
       " 1043.0998961283751,\n",
       " 295.39598043107492,\n",
       " 887193.2721896976,\n",
       " 1192.3749141383762,\n",
       " 2447.9026931122453,\n",
       " 1334.0467216243637,\n",
       " 2436.1788180555491,\n",
       " 1589.9090584255139,\n",
       " 1478.7940780149295,\n",
       " 53550.052138694409,\n",
       " 8768.9843234802884,\n",
       " 358.82871735961066,\n",
       " 2032.1677142708081,\n",
       " 12185.236318929281,\n",
       " 187.7172182164401,\n",
       " 85.599513580819263,\n",
       " 933.09566920412226,\n",
       " 1048.3133628689075,\n",
       " 5381.7982813186181,\n",
       " 1444.9774254035251,\n",
       " 138.70599299862891,\n",
       " 103.21270167190346,\n",
       " 2950.6828456671783,\n",
       " 379.4415597131437,\n",
       " 318.67571887969012,\n",
       " 5828.8432218369971,\n",
       " 3411.7494834049703,\n",
       " 336.32023107967348,\n",
       " 862.23467171490176,\n",
       " 132.67424306109382,\n",
       " 535.01285909441401,\n",
       " 12200.839624807601,\n",
       " 79.596698516062361,\n",
       " 10743.569141355329,\n",
       " 490.84139934936559,\n",
       " 120.87643118436837,\n",
       " 184.0711628295758,\n",
       " 1628.4736324506835,\n",
       " 7860.5780628298744,\n",
       " 879.05692365568029,\n",
       " 59667.787759274026,\n",
       " 1293.6014477969627,\n",
       " 286.36943829067116,\n",
       " 7185.3462881882833,\n",
       " 7128.0985806066901,\n",
       " 5992.6124997780453,\n",
       " 890.68471622911034,\n",
       " 605.51766228024178,\n",
       " 8382.4131371083531,\n",
       " 118.55764536556593,\n",
       " 552.29921973581941,\n",
       " 3650.9226361776955,\n",
       " 359.61952942852008,\n",
       " 302.54885782021574,\n",
       " 2912.0714527794562,\n",
       " 373.53837860489381,\n",
       " 168.71118152415201,\n",
       " 182.60067874815283,\n",
       " 2236.9024409981394,\n",
       " 880335.76325176761,\n",
       " 1031.4878347797282,\n",
       " 92.582277190087311,\n",
       " 2147.9243103529175,\n",
       " 257.83200127940245,\n",
       " 1990.9234040640119,\n",
       " 2070.8964972840363,\n",
       " 312.06976099354932,\n",
       " 836.29217990812936,\n",
       " 415.52056655951071,\n",
       " 2224.2866228751955,\n",
       " 2021.2139087142648,\n",
       " 27235.41442772658,\n",
       " 448.48421829840652,\n",
       " 326.13210879123517,\n",
       " 109.71186862565352,\n",
       " 253121.71444203376,\n",
       " 2702.8644564451492,\n",
       " 496.1290921957019,\n",
       " 45639.938422911844,\n",
       " 3710.5704017167,\n",
       " 204.05757697194196,\n",
       " 915.74644207761537,\n",
       " 962.59042836765957,\n",
       " 86.262692431923739,\n",
       " 170.18464371761709,\n",
       " 1762.6549732065125,\n",
       " 3530.263514728485,\n",
       " 2050.2094141781181,\n",
       " 12162.246269287558,\n",
       " 11922.037442378085,\n",
       " 104.84217432238403,\n",
       " 871.92917027768885,\n",
       " 45.525385598422432,\n",
       " 342.49748307721308,\n",
       " 19839.233680136378,\n",
       " 164.46975238541953,\n",
       " 90043.754291973513,\n",
       " 116.16857931519246,\n",
       " 25051.987298720633,\n",
       " 13850.704244556851,\n",
       " 505.4218628755375,\n",
       " 203.4344088502437,\n",
       " 64015.194328654623,\n",
       " 10241.327827906307,\n",
       " 175.3989474044038,\n",
       " 211.45127979927565,\n",
       " 2051.4973017309703,\n",
       " 1435.3349982997115,\n",
       " 3999479.1067579961,\n",
       " 1058.3826973875446,\n",
       " 3774.6649109213377,\n",
       " 66538.767265242001,\n",
       " 881.66065284902697,\n",
       " 601.7509167137157,\n",
       " 1324.5987454065857,\n",
       " 923.02232997713861,\n",
       " 474.7784175266612,\n",
       " 1661.0599790323015,\n",
       " 158.32931075126731,\n",
       " 15810.931363320053,\n",
       " 460.06001689902041,\n",
       " 697.76254370488562]"
      ]
     },
     "execution_count": 14,
     "metadata": {},
     "output_type": "execute_result"
    }
   ],
   "source": [
    "var_test_shake"
   ]
  },
  {
   "cell_type": "code",
   "execution_count": 16,
   "metadata": {
    "collapsed": false
   },
   "outputs": [
    {
     "data": {
      "text/plain": [
       "(array([ 148.,   11.,    9.,    4.,    1.,    2.,    0.,    1.,    0.,    1.]),\n",
       " array([     0.,   5000.,  10000.,  15000.,  20000.,  25000.,  30000.,\n",
       "         35000.,  40000.,  45000.,  50000.]),\n",
       " <a list of 10 Patch objects>)"
      ]
     },
     "execution_count": 16,
     "metadata": {},
     "output_type": "execute_result"
    },
    {
     "data": {
      "image/png": "[encoded data removed]",
      "text/plain": [
       "<matplotlib.figure.Figure at 0x42a10d0>"
      ]
     },
     "metadata": {},
     "output_type": "display_data"
    }
   ],
   "source": [
    "\n",
    "plt.hist([var_test_shake], color=['r'], alpha=0.5, range = (0, 50000))"
   ]
  },
  {
   "cell_type": "code",
   "execution_count": 17,
   "metadata": {
    "collapsed": false
   },
   "outputs": [
    {
     "data": {
      "text/plain": [
       "45.525385598422432"
      ]
     },
     "execution_count": 17,
     "metadata": {},
     "output_type": "execute_result"
    }
   ],
   "source": [
    "min(var_test_shake)"
   ]
  },
  {
   "cell_type": "code",
   "execution_count": 18,
   "metadata": {
    "collapsed": false
   },
   "outputs": [
    {
     "data": {
      "text/plain": [
       "100156337.15123697"
      ]
     },
     "execution_count": 18,
     "metadata": {},
     "output_type": "execute_result"
    }
   ],
   "source": [
    "max(var_test_shake)"
   ]
  },
  {
   "cell_type": "code",
   "execution_count": 21,
   "metadata": {
    "collapsed": false
   },
   "outputs": [
    {
     "data": {
      "text/plain": [
       "0.0"
      ]
     },
     "execution_count": 21,
     "metadata": {},
     "output_type": "execute_result"
    }
   ],
   "source": [
    "mean(np.array(var_test_shake) < 10)"
   ]
  },
  {
   "cell_type": "code",
   "execution_count": null,
   "metadata": {
    "collapsed": true
   },
   "outputs": [],
   "source": []
  }
 ],
 "metadata": {
  "anaconda-cloud": {},
  "kernelspec": {
   "display_name": "Python 2",
   "language": "python",
   "name": "python2"
  },
  "language_info": {
   "codemirror_mode": {
    "name": "ipython",
    "version": 2
   },
   "file_extension": ".py",
   "mimetype": "text/x-python",
   "name": "python",
   "nbconvert_exporter": "python",
   "pygments_lexer": "ipython2",
   "version": "2.7.5"
  }
 },
 "nbformat": 4,
 "nbformat_minor": 1
}
