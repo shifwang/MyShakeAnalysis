{
 "cells": [
  {
   "cell_type": "code",
   "execution_count": 146,
   "metadata": {
    "collapsed": false
   },
   "outputs": [],
   "source": [
    "import pickle\n",
    "import numpy as np\n",
    "import matplotlib.pyplot as plt"
   ]
  },
  {
   "cell_type": "code",
   "execution_count": 147,
   "metadata": {
    "collapsed": true
   },
   "outputs": [],
   "source": [
    "f1 = open('../Hue/data1.pckl', 'rb')\n",
    "f0 = open('../Hue/data0.pckl', 'rb')\n",
    "data1 = pickle.load(f1)\n",
    "data0 = pickle.load(f0)\n",
    "f1.close()\n",
    "f0.close()"
   ]
  },
  {
   "cell_type": "code",
   "execution_count": 148,
   "metadata": {
    "collapsed": true
   },
   "outputs": [],
   "source": [
    "test_set_prop = 0.2"
   ]
  },
  {
   "cell_type": "code",
   "execution_count": 149,
   "metadata": {
    "collapsed": true
   },
   "outputs": [],
   "source": [
    "temp0 = np.random.choice(range(len(data0)), len(data0))\n",
    "temp1 = np.random.choice(range(len(data1)), len(data1))"
   ]
  },
  {
   "cell_type": "code",
   "execution_count": 267,
   "metadata": {
    "collapsed": false
   },
   "outputs": [],
   "source": [
    "test_human = data0[temp0[:int(test_set_prop*len(data0))]]\n",
    "train_human = data0[temp0[int(test_set_prop*len(data0)):]]\n",
    "test_eq = data1[temp1[:int(test_set_prop*len(data1))]]\n",
    "train_eq = data1[temp1[int(test_set_prop*len(data1)):]]"
   ]
  },
  {
   "cell_type": "markdown",
   "metadata": {},
   "source": [
    "## Prefiltering functions"
   ]
  },
  {
   "cell_type": "code",
   "execution_count": 287,
   "metadata": {
    "collapsed": true
   },
   "outputs": [],
   "source": [
    "def variation_rate(x, tol=0.00001, fixed_div=False):\n",
    "    x = np.array(x)\n",
    "    if len(x) < 2:\n",
    "        raise ValueError('Data length too short.')\n",
    "    if fixed_div:\n",
    "        rates = (x[1:] - x[:-1]) / fixed_div\n",
    "    else:\n",
    "        x[x>=0] = x[x>=0] + tol\n",
    "        x[x<0] = x[x<0] - tol\n",
    "        rates = (x[1:] - x[:-1]) / x[:-1]\n",
    "    return rates[abs(x[:-1]) > 1E-10]"
   ]
  },
  {
   "cell_type": "code",
   "execution_count": 319,
   "metadata": {
    "collapsed": false
   },
   "outputs": [
    {
     "data": {
      "text/plain": [
       "-8.9784515764020458"
      ]
     },
     "execution_count": 319,
     "metadata": {},
     "output_type": "execute_result"
    }
   ],
   "source": [
    "mean(variation_rate(train_human[6], tol=0.00001, fixed_div=0.01))"
   ]
  },
  {
   "cell_type": "code",
   "execution_count": 280,
   "metadata": {
    "collapsed": true
   },
   "outputs": [],
   "source": [
    "# def get_variation_rate_stats(data):\n",
    "#     t, x, y, z = get_data(data)\n",
    "#     rate = data['header']['sampling_rate']\n",
    "#     if rate != 25:\n",
    "#         raise ValueError('Default 25 Hz, data ' + str(rate) + ' Hz')\n",
    "#     variattion_rates = [variation_rate(dt) for dt in [x, y, z]]\n",
    "#     kurt_xyz = [scipy.stats.kurtosis(dt) for dt in variattion_rates]\n",
    "#     mean_xyz = [np.mean(dt) for dt in variattion_rates]\n",
    "#     var_xyz = [np.var(dt) for dt in variattion_rates]\n",
    "#     return mean_xyz, var_xyz, kurt_xyz"
   ]
  },
  {
   "cell_type": "code",
   "execution_count": 281,
   "metadata": {
    "collapsed": false
   },
   "outputs": [],
   "source": [
    "def get_variation_rate_stats(data):\n",
    "    x, y, z = data[:50], data[50:100], data[100:150]\n",
    "    variation_rates = [variation_rate(dt) for dt in [x, y, z]]\n",
    "    kurt_xyz = [scipy.stats.kurtosis(dt) for dt in variation_rates]\n",
    "    mean_xyz = [np.mean(dt) for dt in variation_rates]\n",
    "    var_xyz = [np.var(dt) for dt in variation_rates]\n",
    "    return mean_xyz, var_xyz, kurt_xyz"
   ]
  },
  {
   "cell_type": "code",
   "execution_count": 282,
   "metadata": {
    "collapsed": true
   },
   "outputs": [],
   "source": [
    "def cross_time(data, axis):\n",
    "    data_translation = data - axis\n",
    "    return sum(data_translation[1:] * data_translation[:-1] < 0)"
   ]
  },
  {
   "cell_type": "code",
   "execution_count": 283,
   "metadata": {
    "collapsed": false
   },
   "outputs": [],
   "source": [
    "def get_cross_time(data, axis=[0, 0, 0]):\n",
    "    x, y, z = data[:50], data[50:100], data[100:150]\n",
    "    return cross_time(x, axis[0]), cross_time(y, axis[1]), cross_time(z, axis[2])"
   ]
  },
  {
   "cell_type": "code",
   "execution_count": 338,
   "metadata": {
    "collapsed": true
   },
   "outputs": [],
   "source": [
    "def get_prop_zeros(data, tol=1.e-12):\n",
    "    data = np.abs(np.array(data)) < tol\n",
    "    x, y, z = data[:50], data[50:100], data[100:150]\n",
    "    return np.mean(x), np.mean(y), np.mean(z)"
   ]
  },
  {
   "cell_type": "code",
   "execution_count": 347,
   "metadata": {
    "collapsed": false
   },
   "outputs": [
    {
     "data": {
      "text/plain": [
       "(0.88, 1.0, 0.20000000000000001)"
      ]
     },
     "execution_count": 347,
     "metadata": {},
     "output_type": "execute_result"
    }
   ],
   "source": [
    "get_prop_zeros(train_human[7])"
   ]
  },
  {
   "cell_type": "code",
   "execution_count": 349,
   "metadata": {
    "collapsed": false
   },
   "outputs": [
    {
     "data": {
      "text/plain": [
       "(0.0, 0.0, 0.0)"
      ]
     },
     "execution_count": 349,
     "metadata": {},
     "output_type": "execute_result"
    }
   ],
   "source": [
    "get_prop_zeros(train_eq[1])"
   ]
  },
  {
   "cell_type": "code",
   "execution_count": 352,
   "metadata": {
    "collapsed": false
   },
   "outputs": [
    {
     "data": {
      "text/plain": [
       "0.14000000000000001"
      ]
     },
     "execution_count": 352,
     "metadata": {},
     "output_type": "execute_result"
    }
   ],
   "source": [
    "max(np.array([max(get_prop_zeros(dt)) for dt in train_eq]))"
   ]
  },
  {
   "cell_type": "code",
   "execution_count": null,
   "metadata": {
    "collapsed": true
   },
   "outputs": [],
   "source": [
    "max(np.array([max(get_prop_zeros(dt)) for dt in train_eq]))"
   ]
  },
  {
   "cell_type": "code",
   "execution_count": null,
   "metadata": {
    "collapsed": true
   },
   "outputs": [],
   "source": []
  },
  {
   "cell_type": "code",
   "execution_count": null,
   "metadata": {
    "collapsed": true
   },
   "outputs": [],
   "source": []
  },
  {
   "cell_type": "code",
   "execution_count": null,
   "metadata": {
    "collapsed": true
   },
   "outputs": [],
   "source": []
  },
  {
   "cell_type": "code",
   "execution_count": 284,
   "metadata": {
    "collapsed": false
   },
   "outputs": [
    {
     "data": {
      "text/plain": [
       "([-14574.97963795434, -0.4433338215654804, -1.5182474715351542],\n",
       " [10196584596.918825, 8.0302053119813515, 1482.840465460974],\n",
       " [44.02083333298978, 12.595996922645671, 8.617114752791778])"
      ]
     },
     "execution_count": 284,
     "metadata": {},
     "output_type": "execute_result"
    }
   ],
   "source": [
    "get_variation_rate_stats(train_human[14])"
   ]
  },
  {
   "cell_type": "code",
   "execution_count": 285,
   "metadata": {
    "collapsed": false
   },
   "outputs": [
    {
     "data": {
      "text/plain": [
       "([-0.8512983145256684, -4.2389974531934902, 5.2866512087428923],\n",
       " [171.34283669971069, 275.46612919089245, 1590.0799831752295],\n",
       " [10.031516927671017, 19.491881243600215, 28.496010320958664])"
      ]
     },
     "execution_count": 285,
     "metadata": {},
     "output_type": "execute_result"
    }
   ],
   "source": [
    "get_variation_rate_stats(train_eq[22])"
   ]
  },
  {
   "cell_type": "code",
   "execution_count": 199,
   "metadata": {
    "collapsed": true
   },
   "outputs": [],
   "source": [
    "train_human_variation_stat = [get_variation_rate_stats(dt) for dt in train_human]"
   ]
  },
  {
   "cell_type": "code",
   "execution_count": 200,
   "metadata": {
    "collapsed": true
   },
   "outputs": [],
   "source": [
    "train_eq_variation_stat = [get_variation_rate_stats(dt) for dt in train_eq]"
   ]
  },
  {
   "cell_type": "code",
   "execution_count": 225,
   "metadata": {
    "collapsed": true
   },
   "outputs": [],
   "source": [
    "train_human_crosstime = np.array([get_cross_time(dt) for dt in train_human])\n",
    "train_human_crosstime_mean = np.array([np.mean(data) for data in train_human_crosstime])\n",
    "train_human_crosstime_min = np.array([min(data) for data in train_human_crosstime])"
   ]
  },
  {
   "cell_type": "code",
   "execution_count": 226,
   "metadata": {
    "collapsed": false
   },
   "outputs": [],
   "source": [
    "train_eq_crosstime = np.array([get_cross_time(dt) for dt in train_eq])\n",
    "train_eq_crosstime_mean = np.array([np.mean(data) for data in train_eq_crosstime])\n",
    "train_eq_crosstime_min = np.array([min(data) for data in train_eq_crosstime])"
   ]
  },
  {
   "cell_type": "code",
   "execution_count": 238,
   "metadata": {
    "collapsed": false
   },
   "outputs": [
    {
     "data": {
      "text/plain": [
       "0.21812574139976276"
      ]
     },
     "execution_count": 238,
     "metadata": {},
     "output_type": "execute_result"
    }
   ],
   "source": [
    "np.mean(train_human_crosstime_mean<10)"
   ]
  },
  {
   "cell_type": "code",
   "execution_count": 239,
   "metadata": {
    "collapsed": false
   },
   "outputs": [
    {
     "data": {
      "text/plain": [
       "0.21153024911032028"
      ]
     },
     "execution_count": 239,
     "metadata": {},
     "output_type": "execute_result"
    }
   ],
   "source": [
    "np.mean(train_human_crosstime_min<5)"
   ]
  },
  {
   "cell_type": "code",
   "execution_count": null,
   "metadata": {
    "collapsed": true
   },
   "outputs": [],
   "source": []
  }
 ],
 "metadata": {
  "anaconda-cloud": {},
  "kernelspec": {
   "display_name": "Python [conda root]",
   "language": "python",
   "name": "conda-root-py"
  },
  "language_info": {
   "codemirror_mode": {
    "name": "ipython",
    "version": 3
   },
   "file_extension": ".py",
   "mimetype": "text/x-python",
   "name": "python",
   "nbconvert_exporter": "python",
   "pygments_lexer": "ipython3",
   "version": "3.5.2"
  }
 },
 "nbformat": 4,
 "nbformat_minor": 1
}
