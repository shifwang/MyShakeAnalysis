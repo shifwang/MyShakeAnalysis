{
 "cells": [
  {
   "cell_type": "markdown",
   "metadata": {
    "collapsed": true
   },
   "source": [
    "# Project summary\n",
    "- [Project background](#background)\n",
    "- [Data description](#description)\n",
    "- Formulation - Data wrangling\n",
    "- SVM solver\n",
    "- Mixed programming with C\n",
    "- Data scraping using selenium package"
   ]
  },
  {
   "cell_type": "code",
   "execution_count": 4,
   "metadata": {
    "collapsed": false
   },
   "outputs": [
    {
     "name": "stdout",
     "output_type": "stream",
     "text": [
      "Populating the interactive namespace from numpy and matplotlib\n"
     ]
    },
    {
     "name": "stderr",
     "output_type": "stream",
     "text": [
      "/usr/local/lib/python3.5/site-packages/IPython/core/magics/pylab.py:161: UserWarning: pylab import has clobbered these variables: ['random']\n",
      "`%matplotlib` prevents importing * from pylab and numpy\n",
      "  \"\\n`%matplotlib` prevents importing * from pylab and numpy\"\n"
     ]
    }
   ],
   "source": [
    "# This script generates dataset with labels\n",
    "import json\n",
    "import matplotlib.pyplot as plt\n",
    "import numpy as np\n",
    "import glob\n",
    "import random\n",
    "%pylab inline"
   ]
  },
  {
   "cell_type": "markdown",
   "metadata": {
    "collapsed": true
   },
   "source": [
    "<a id = 'background'> </a>\n",
    "## Project background\n",
    "- Earthquake transmits at the speed of sound.\n",
    "- Morden communication transmits at the speed of light.\n",
    "- If we detect earthquake quickly at the center, we can send warning signals to further places."
   ]
  },
  {
   "cell_type": "markdown",
   "metadata": {},
   "source": [
    "<a id = 'description' > </a>\n",
    "## Data description\n",
    "- Shake table data (we know when the earthquake begins ~300) \n",
    "- data collected from real phones. (phone triggered but there was no earthquake ~20k)\n",
    "\n",
    "## mixed programming with C\n",
    "- use loess to do smoothing\n",
    "\n",
    "[read_data_demo](read_data_demo.ipynb)\n",
    "\n",
    "\n"
   ]
  },
  {
   "cell_type": "markdown",
   "metadata": {},
   "source": [
    "## Formulation (Data wrangling)\n",
    "- Two-stage process\n",
    "  - Stage 1: A naive trigger\n",
    "  - Stage 2: Verification \n",
    "- Stage 2 is formulated as a classification problem.\n",
    "\n",
    "[Generate Data](GenerateData.ipynb)"
   ]
  },
  {
   "cell_type": "markdown",
   "metadata": {},
   "source": [
    "## SVM solver\n",
    "- Use SVM with polynomial kernel to do classification\n",
    "- Achieved best performance in the class\n",
    "\n",
    "[SVM](SVM.ipynb)"
   ]
  },
  {
   "cell_type": "markdown",
   "metadata": {},
   "source": [
    "## Other explored features\n",
    "\n",
    "[spectrogram based features](Spectrogram.ipynb)\n",
    "\n",
    "[crossing feature](Crossing_Feature.ipynb)\n",
    "\n",
    "[Reinforcement learning](RL.ipynb)"
   ]
  },
  {
   "cell_type": "markdown",
   "metadata": {},
   "source": [
    "## Data scraping\n",
    "[Get all the 200 authors for the proposal](TotalAuthors.ipynb)"
   ]
  },
  {
   "cell_type": "code",
   "execution_count": null,
   "metadata": {
    "collapsed": true
   },
   "outputs": [],
   "source": []
  }
 ],
 "metadata": {
  "kernelspec": {
   "display_name": "Python 3",
   "language": "python",
   "name": "python3"
  },
  "language_info": {
   "codemirror_mode": {
    "name": "ipython",
    "version": 3
   },
   "file_extension": ".py",
   "mimetype": "text/x-python",
   "name": "python",
   "nbconvert_exporter": "python",
   "pygments_lexer": "ipython3",
   "version": "3.5.2"
  }
 },
 "nbformat": 4,
 "nbformat_minor": 1
}
