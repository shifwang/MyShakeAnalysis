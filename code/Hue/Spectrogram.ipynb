{
 "cells": [
  {
   "cell_type": "code",
   "execution_count": null,
   "metadata": {
    "collapsed": true
   },
   "outputs": [],
   "source": [
    "# Use Aaron's spectral based feature"
   ]
  },
  {
   "cell_type": "code",
   "execution_count": 1,
   "metadata": {
    "collapsed": true
   },
   "outputs": [],
   "source": [
    "def band_amplitudes(spec,window=[0,3],numBins=4):\n",
    "    amp = np.zeros((numBins,window[1]-window[0]))\n",
    "    band = 1\n",
    "    for i in range(np.size(spec,0)):\n",
    "        if band > numBins:\n",
    "            break\n",
    "        elif i < band/numBins * np.size(spec,0):\n",
    "            for k in enumerate(range(window[0],window[1])):\n",
    "                amp[band-1,k] += spec[i,k]**2\n",
    "        else:\n",
    "            band += 1\n",
    "    amp_avg = np.sqrt(np.sum(amp,axis=1))\n",
    "    return amp_avg\n",
    "    "
   ]
  },
  {
   "cell_type": "code",
   "execution_count": 6,
   "metadata": {
    "collapsed": true
   },
   "outputs": [],
   "source": [
    "def pairwise_ratios(vec):\n",
    "    M = len(vec)\n",
    "    pw = np.zeros(M*(M-1)/2)\n",
    "    k=0\n",
    "    for i in range(M):\n",
    "        for j in range(i+1,M):\n",
    "            pw[k] = vec[i]/(vec[j] + 1e-2)\n",
    "            k += 1\n",
    "    return pw"
   ]
  },
  {
   "cell_type": "code",
   "execution_count": 7,
   "metadata": {
    "collapsed": false
   },
   "outputs": [],
   "source": [
    "def spectral_feature(data):\n",
    "    seg = 50\n",
    "    n   = len(data)\n",
    "    feature = np.zeros((n, 66))\n",
    "    for i in range(n):\n",
    "        x = data[i, 0:seg]\n",
    "        y = data[i, (seg):(2*seg)]\n",
    "        z = data[i, (2*seg):(3*seg)]\n",
    "        sgX = sgl.spectrogram(x, nfft=32, fs=25, noverlap = 30, nperseg=32);\n",
    "        sgY = sgl.spectrogram(y, nfft=32, fs=25, noverlap = 30, nperseg=32);\n",
    "        sgZ = sgl.spectrogram(z, nfft=32, fs=25, noverlap = 30, nperseg=32);\n",
    "        specX = sgX[2]\n",
    "        specY = sgY[2]\n",
    "        specZ = sgZ[2]\n",
    "        feature[i] = pairwise_ratios(np.concatenate((band_amplitudes(specX),band_amplitudes(specY),band_amplitudes(specZ))))\n",
    "    return(feature)"
   ]
  },
  {
   "cell_type": "code",
   "execution_count": 5,
   "metadata": {
    "collapsed": false
   },
   "outputs": [],
   "source": [
    "import pickle\n",
    "f1 = open('data1.pckl', 'rb')\n",
    "f0 = open('data0.pckl', 'rb')\n",
    "data1 = pickle.load(f1)\n",
    "data0 = pickle.load(f0)\n",
    "f1.close()\n",
    "f0.close()"
   ]
  },
  {
   "cell_type": "code",
   "execution_count": 8,
   "metadata": {
    "collapsed": false
   },
   "outputs": [
    {
     "name": "stderr",
     "output_type": "stream",
     "text": [
      "/home/yu/anaconda3/lib/python3.5/site-packages/ipykernel/__main__.py:3: VisibleDeprecationWarning: using a non-integer number instead of an integer will result in an error in the future\n",
      "  app.launch_new_instance()\n"
     ]
    }
   ],
   "source": [
    "import numpy as np\n",
    "import scipy.signal as sgl\n",
    "f1 = spectral_feature(data1)\n",
    "f0 = spectral_feature(data0)"
   ]
  },
  {
   "cell_type": "code",
   "execution_count": 11,
   "metadata": {
    "collapsed": false
   },
   "outputs": [
    {
     "name": "stdout",
     "output_type": "stream",
     "text": [
      "Populating the interactive namespace from numpy and matplotlib\n"
     ]
    },
    {
     "name": "stderr",
     "output_type": "stream",
     "text": [
      "WARNING: pylab import has clobbered these variables: ['flag']\n",
      "`%matplotlib` prevents importing * from pylab and numpy\n"
     ]
    },
    {
     "data": {
      "image/png": "[encoded data removed]",
      "text/plain": [
       "<matplotlib.figure.Figure at 0x7f51a29d67f0>"
      ]
     },
     "metadata": {},
     "output_type": "display_data"
    }
   ],
   "source": [
    "from matplotlib.mlab import PCA\n",
    "import matplotlib.pyplot as plt\n",
    "import math\n",
    "%pylab inline\n",
    "results = PCA(np.array(f1))\n",
    "\n",
    "for point in results.Y:\n",
    "    plt.scatter(point[0],point[1],color='blue',alpha=0.1)\n",
    "flag = 0\n",
    "for i in range(len(f0)):\n",
    "    for j in range(len(f0[0])):\n",
    "        if not isinstance(f0[i][j], float):\n",
    "            print(1)\n",
    "            f0[i][j] = 0\n",
    "#print(svd(f0[0:100, 0:66]))\n",
    "results = PCA(np.array(f0))\n",
    "for point in results.Y:\n",
    "    plt.scatter(point[0],point[1],color='red',alpha=0.1)\n"
   ]
  },
  {
   "cell_type": "code",
   "execution_count": null,
   "metadata": {
    "collapsed": true
   },
   "outputs": [],
   "source": []
  }
 ],
 "metadata": {
  "anaconda-cloud": {},
  "kernelspec": {
   "display_name": "Python 3",
   "language": "python",
   "name": "python3"
  },
  "language_info": {
   "codemirror_mode": {
    "name": "ipython",
    "version": 3
   },
   "file_extension": ".py",
   "mimetype": "text/x-python",
   "name": "python",
   "nbconvert_exporter": "python",
   "pygments_lexer": "ipython3",
   "version": "3.5.2"
  }
 },
 "nbformat": 4,
 "nbformat_minor": 1
}
