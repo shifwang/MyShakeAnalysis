{
 "cells": [
  {
   "cell_type": "code",
   "execution_count": 1,
   "metadata": {
    "collapsed": false
   },
   "outputs": [
    {
     "name": "stdout",
     "output_type": "stream",
     "text": [
      "Populating the interactive namespace from numpy and matplotlib\n"
     ]
    },
    {
     "name": "stderr",
     "output_type": "stream",
     "text": [
      "/usr/local/lib/python3.5/site-packages/IPython/core/magics/pylab.py:161: UserWarning: pylab import has clobbered these variables: ['random']\n",
      "`%matplotlib` prevents importing * from pylab and numpy\n",
      "  \"\\n`%matplotlib` prevents importing * from pylab and numpy\"\n"
     ]
    }
   ],
   "source": [
    "import json\n",
    "import matplotlib.pyplot as plt\n",
    "import numpy as np\n",
    "import sklearn as sk\n",
    "#import obspy\n",
    "import glob\n",
    "import random\n",
    "from __future__ import division\n",
    "%pylab inline"
   ]
  },
  {
   "cell_type": "code",
   "execution_count": 2,
   "metadata": {
    "collapsed": true
   },
   "outputs": [],
   "source": [
    "import pickle\n",
    "f1 = open('data1.pckl', 'rb')\n",
    "f0 = open('data0.pckl', 'rb')\n",
    "data1 = pickle.load(f1)\n",
    "data0 = pickle.load(f0)\n",
    "f1.close()\n",
    "f0.close()"
   ]
  },
  {
   "cell_type": "code",
   "execution_count": 4,
   "metadata": {
    "collapsed": false
   },
   "outputs": [],
   "source": [
    "def difference(seq):\n",
    "    return np.sum(np.abs((seq[:-1] - seq[1:])/2))\n",
    "def crossing(data, K = 6 * 4):\n",
    "    n = len(data)\n",
    "    ll = len(data[0])//K\n",
    "    output = np.zeros((n, K))\n",
    "    for i in range(n):\n",
    "        tmp = (data[i] > 0) * 1.0\n",
    "        output[i,:] = [difference(tmp[tt*ll:(tt*ll + ll)]) for tt in range(K)]\n",
    "    return output\n",
    "cf1 = crossing(data1[:, 0:150])\n",
    "cf0 = crossing(data0[:, 0:150])"
   ]
  },
  {
   "cell_type": "code",
   "execution_count": 5,
   "metadata": {
    "collapsed": false
   },
   "outputs": [],
   "source": [
    "import pickle\n",
    "f1 = open('cf1.pckl', 'wb')\n",
    "f0 = open('cf0.pckl', 'wb')\n",
    "pickle.dump(cf1, f1)\n",
    "pickle.dump(cf0, f0)\n",
    "f1.close()\n",
    "f0.close()"
   ]
  },
  {
   "cell_type": "code",
   "execution_count": 6,
   "metadata": {
    "collapsed": false
   },
   "outputs": [
    {
     "name": "stdout",
     "output_type": "stream",
     "text": [
      "[[ 1.   1.   1.5  1.   1.   0.5  1.5  1.   1.5  1.   1.5  0.5  2.   1.5  2.\n",
      "   1.5  1.   1.5  1.5  1.5  1.   2.   0.5  2.5]\n",
      " [ 1.5  1.5  1.5  1.   1.   1.   1.5  1.   1.   1.   1.5  0.5  2.   1.5  2.\n",
      "   1.5  1.   1.   1.5  2.   1.5  1.5  1.   2.5]\n",
      " [ 1.   1.5  1.5  1.5  1.   1.5  1.5  1.5  2.   1.5  1.5  1.   2.   1.5\n",
      "   1.5  1.5  1.   1.5  1.   1.5  1.5  1.   1.5  2.5]\n",
      " [ 1.   1.5  1.5  1.   0.5  1.5  1.5  2.   1.5  1.   1.   1.   2.   2.   1.5\n",
      "   1.5  1.   1.5  1.5  2.   2.   0.5  2.   2. ]\n",
      " [ 1.   1.   1.5  1.5  1.   1.5  1.   2.   1.5  1.5  1.   1.5  1.5  2.   1.5\n",
      "   1.   2.5  1.5  1.5  1.5  2.5  0.5  2.   1.5]\n",
      " [ 1.5  1.5  1.   1.   1.   2.   1.5  2.5  1.   1.5  0.5  1.5  1.   2.   1.5\n",
      "   0.5  1.   1.   1.5  1.   2.   0.5  2.5  1.5]\n",
      " [ 1.   1.5  1.   1.   0.5  1.5  1.   2.5  1.   1.5  0.5  2.   1.5  2.   1.5\n",
      "   1.   2.   1.5  1.5  1.5  2.   0.5  2.5  1. ]\n",
      " [ 1.5  2.   1.   1.   1.   1.5  1.   2.   0.5  1.5  0.5  1.5  1.5  2.   1.5\n",
      "   1.5  1.5  1.5  1.5  1.5  1.5  1.   2.5  1. ]\n",
      " [ 0.5  0.5  2.   1.5  0.5  1.5  0.5  0.5  0.5  0.5  1.5  2.   0.5  1.5\n",
      "   1.5  1.5  1.   0.5  1.   1.5  1.5  0.5  0.5  1. ]]\n",
      "[[ 1.5  0.5  1.   1.   0.5  1.5  0.   1.5  0.5  0.5  0.5  1.   1.   1.5\n",
      "   1.5  0.5  1.   0.5  0.   1.5  0.5  0.   1.   1.5]\n",
      " [ 0.   0.5  1.   0.5  1.   1.5  1.   0.5  1.5  0.5  0.5  0.5  1.5  1.5\n",
      "   0.5  2.   1.5  0.5  0.5  1.   1.   0.5  1.   0.5]\n",
      " [ 1.   0.5  1.   0.   1.   1.   1.   1.   2.   2.   0.5  0.   0.5  1.   0.\n",
      "   0.5  2.   1.5  2.   2.   1.   0.5  1.   1.5]\n",
      " [ 0.5  1.5  1.   2.   1.   0.5  1.5  1.5  1.5  1.5  2.5  0.5  2.   1.5  1.\n",
      "   1.5  0.   1.   0.5  1.5  0.5  0.5  0.5  1. ]\n",
      " [ 1.   1.   1.5  1.5  1.   1.   0.5  1.   1.   0.5  1.5  1.5  0.   1.5\n",
      "   1.5  0.5  1.5  1.   0.   1.   0.5  1.   1.5  0. ]\n",
      " [ 0.5  0.5  1.   1.   1.   0.5  0.5  0.   1.   0.   1.   1.   0.5  0.5\n",
      "   0.5  1.   0.5  0.5  0.   1.   1.   1.5  0.5  0.5]\n",
      " [ 0.5  1.   0.5  0.5  1.5  0.5  1.   0.5  1.5  1.5  0.5  1.   0.5  1.   1.5\n",
      "   1.   1.   2.   1.5  1.5  1.   1.5  0.5  0.5]\n",
      " [ 2.   2.   1.5  2.   1.5  0.5  1.5  1.5  1.   1.   2.   1.5  2.   0.5  1.\n",
      "   2.   0.   1.5  1.   2.   1.   1.5  0.5  0. ]\n",
      " [ 0.   0.   0.   0.5  0.   0.5  0.5  0.   0.   0.5  1.5  0.   0.5  1.5\n",
      "   1.5  1.   0.5  0.   0.   0.   0.5  1.   0.   0. ]]\n"
     ]
    }
   ],
   "source": [
    "import pickle\n",
    "f1 = open('cf1.pckl', 'rb')\n",
    "f0 = open('cf0.pckl', 'rb')\n",
    "cf1 = pickle.load(f1)\n",
    "cf0 = pickle.load(f0)\n",
    "f1.close()\n",
    "f0.close()\n",
    "print(cf1[1:10])\n",
    "print(cf0[1:10])"
   ]
  },
  {
   "cell_type": "code",
   "execution_count": null,
   "metadata": {
    "collapsed": true
   },
   "outputs": [],
   "source": []
  }
 ],
 "metadata": {
  "kernelspec": {
   "display_name": "Python 3",
   "language": "python",
   "name": "python3"
  },
  "language_info": {
   "codemirror_mode": {
    "name": "ipython",
    "version": 3
   },
   "file_extension": ".py",
   "mimetype": "text/x-python",
   "name": "python",
   "nbconvert_exporter": "python",
   "pygments_lexer": "ipython3",
   "version": "3.5.2"
  }
 },
 "nbformat": 4,
 "nbformat_minor": 1
}
